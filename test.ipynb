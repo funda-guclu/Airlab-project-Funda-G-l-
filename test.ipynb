{
 "cells": [
  {
   "cell_type": "code",
   "execution_count": 114,
   "id": "d7dc37fe-8f25-4d98-8b7d-c7e422c527b0",
   "metadata": {},
   "outputs": [],
   "source": [
    "import pandas as pd\n",
    "import numpy as np\n",
    "import seaborn as sns"
   ]
  },
  {
   "cell_type": "code",
   "execution_count": 113,
   "metadata": {},
   "outputs": [],
   "source": [
    "df = sns.load_dataset('planets')"
   ]
  },
  {
   "cell_type": "markdown",
   "metadata": {},
   "source": [
    "### Print/ Display the first 5 rows of dataframe"
   ]
  },
  {
   "cell_type": "code",
   "execution_count": 112,
   "id": "f57c2abf-fa5a-4b72-953f-3e63422dcdde",
   "metadata": {},
   "outputs": [
    {
     "name": "stdout",
     "output_type": "stream",
     "text": [
      "            method  number  orbital_period   mass  distance  year\n",
      "0  Radial Velocity       1         269.300   7.10     77.40  2006\n",
      "1  Radial Velocity       1         874.774   2.21     56.95  2008\n",
      "2  Radial Velocity       1         763.000   2.60     19.84  2011\n",
      "3  Radial Velocity       1         326.030  19.40    110.62  2007\n",
      "4  Radial Velocity       1         516.220  10.50    119.47  2009\n"
     ]
    }
   ],
   "source": [
    "print(df.head(5))"
   ]
  },
  {
   "cell_type": "markdown",
   "metadata": {},
   "source": [
    "### Print/ Display the last 5 rows of dataframe"
   ]
  },
  {
   "cell_type": "code",
   "execution_count": 110,
   "id": "4c27adad-ccd9-4871-8d81-dcc11c742dae",
   "metadata": {},
   "outputs": [
    {
     "name": "stdout",
     "output_type": "stream",
     "text": [
      "       method  number  orbital_period  mass  distance  year\n",
      "1030  Transit       1        3.941507   NaN     172.0  2006\n",
      "1031  Transit       1        2.615864   NaN     148.0  2007\n",
      "1032  Transit       1        3.191524   NaN     174.0  2007\n",
      "1033  Transit       1        4.125083   NaN     293.0  2008\n",
      "1034  Transit       1        4.187757   NaN     260.0  2008\n"
     ]
    }
   ],
   "source": [
    "print(df.tail(5))\n"
   ]
  },
  {
   "cell_type": "markdown",
   "metadata": {},
   "source": [
    "### How many unique methods are there?"
   ]
  },
  {
   "cell_type": "markdown",
   "metadata": {},
   "source": [
    "# your code here\n"
   ]
  },
  {
   "cell_type": "code",
   "execution_count": 109,
   "id": "96af27ce",
   "metadata": {},
   "outputs": [
    {
     "name": "stdout",
     "output_type": "stream",
     "text": [
      "method                     number  orbital_period  mass   distance  year\n",
      "Microlensing               2       NaN             NaN    4080.00   2012    2\n",
      "Imaging                    1       NaN             NaN    NaN       2008    2\n",
      "Microlensing               1       NaN             NaN    NaN       2009    2\n",
      "                                                                    2008    2\n",
      "Transit                    1       2.788491        NaN    342.00    2007    1\n",
      "                                                                           ..\n",
      "Radial Velocity            1       1319.000000     13.00  54.92     2010    1\n",
      "                                   1333.000000     2.58   32.99     2007    1\n",
      "                                   1475.000000     7.00   72.57     2009    1\n",
      "                                   1523.000000     2.60   44.05     2009    1\n",
      "Transit Timing Variations  3       NaN             NaN    NaN       2014    1\n",
      "Name: count, Length: 1031, dtype: int64\n"
     ]
    }
   ],
   "source": [
    "print(df.value_counts(dropna=False))"
   ]
  },
  {
   "cell_type": "markdown",
   "metadata": {},
   "source": [
    "### What is the number of data collected in each year?"
   ]
  },
  {
   "cell_type": "code",
   "execution_count": 108,
   "metadata": {},
   "outputs": [
    {
     "name": "stdout",
     "output_type": "stream",
     "text": [
      "year\n",
      "2011    185\n",
      "2012    140\n",
      "2013    118\n",
      "2010    102\n",
      "2009     98\n",
      "2008     74\n",
      "2007     53\n",
      "2014     52\n",
      "2005     39\n",
      "2002     32\n",
      "2006     31\n",
      "2004     26\n",
      "2003     25\n",
      "2000     16\n",
      "1999     15\n",
      "2001     12\n",
      "1996      6\n",
      "1998      5\n",
      "1992      2\n",
      "1995      1\n",
      "1997      1\n",
      "1989      1\n",
      "1994      1\n",
      "Name: count, dtype: int64\n"
     ]
    }
   ],
   "source": [
    "data_per_year = df['year'].value_counts()\n",
    "print(data_per_year)\n"
   ]
  },
  {
   "cell_type": "markdown",
   "metadata": {},
   "source": [
    "### Which columns have missing values and how many?"
   ]
  },
  {
   "cell_type": "code",
   "execution_count": 107,
   "metadata": {},
   "outputs": [
    {
     "name": "stdout",
     "output_type": "stream",
     "text": [
      "Columns with missing values and their counts:\n",
      "orbital_period     43\n",
      "mass              522\n",
      "distance          227\n",
      "dtype: int64\n"
     ]
    }
   ],
   "source": [
    "missing_values = df.isnull().sum()\n",
    "print(\"Columns with missing values and their counts:\")\n",
    "print(missing_values[missing_values > 0])\n"
   ]
  },
  {
   "cell_type": "markdown",
   "metadata": {},
   "source": [
    "### Write docstring for the function below."
   ]
  },
  {
   "cell_type": "code",
   "execution_count": null,
   "metadata": {},
   "outputs": [],
   "source": []
  },
  {
   "cell_type": "code",
   "execution_count": 105,
   "metadata": {},
   "outputs": [],
   "source": [
    "def do_something(x, y, z):\n",
    "    \"\"\"Calculate a function and return the result.\n",
    "    Parameters:\n",
    "    - x (float): The first entry.\n",
    "    - y (float): The second entry.\n",
    "    - z (float): the third entry.\n",
    "    Returns:\n",
    "    - float: The result of the function, calculated as 1 / (1/x + 1/y + 1/z).\n",
    "    Note:\n",
    "    Ensure that x,y and z are not equal to 0 to avoid number divided by 0 uncertainty.\n",
    "    \"\"\"   \n",
    "\n",
    "    result = 1 / x + 1 / y + 1 / z\n",
    "\n",
    "    return 1 / result"
   ]
  },
  {
   "cell_type": "markdown",
   "metadata": {},
   "source": [
    "### Get (print) the docstring of the function defined above."
   ]
  },
  {
   "cell_type": "code",
   "execution_count": 103,
   "metadata": {},
   "outputs": [
    {
     "name": "stdout",
     "output_type": "stream",
     "text": [
      "Calculate a function and return the result.\n",
      "    Parameters:\n",
      "    - x (float): The first entry.\n",
      "    - y (float): The second entry.\n",
      "    - z (float): the third entry.\n",
      "    Returns:\n",
      "    - float: The result of the function, calculated as 1 / (1/x + 1/y + 1/z).\n",
      "    Note:\n",
      "    Ensure that x,y and z are not equal to 0 to avoid number divided by 0 uncertainty.\n",
      "    \n"
     ]
    }
   ],
   "source": [
    "def do_something(x, y, z):\n",
    "    \"\"\"Calculate a function and return the result.\n",
    "    Parameters:\n",
    "    - x (float): The first entry.\n",
    "    - y (float): The second entry.\n",
    "    - z (float): the third entry.\n",
    "    Returns:\n",
    "    - float: The result of the function, calculated as 1 / (1/x + 1/y + 1/z).\n",
    "    Note:\n",
    "    Ensure that x,y and z are not equal to 0 to avoid number divided by 0 uncertainty.\n",
    "    \"\"\"   \n",
    "\n",
    "    result = 1 / x + 1 / y + 1 / z\n",
    "\n",
    "    return 1 / result\n",
    "print(do_something.__doc__)"
   ]
  },
  {
   "cell_type": "markdown",
   "metadata": {},
   "source": [
    "### Call do_something function for the (11,13,15) values and save it as result"
   ]
  },
  {
   "cell_type": "code",
   "execution_count": 92,
   "metadata": {},
   "outputs": [
    {
     "name": "stdout",
     "output_type": "stream",
     "text": [
      "Result:  4.26441351888668\n"
     ]
    }
   ],
   "source": [
    "def do_something(x, y, z):\n",
    "    \"\"\"Calculate a function and return the result.\n",
    "    Parameters:\n",
    "    - x (float): The first entry.\n",
    "    - y (float): The second entry.\n",
    "    - z (float): the third entry.\n",
    "    Returns:\n",
    "    - float: The result of the function, calculated as 1 / (1/x + 1/y + 1/z).\n",
    "    Note:\n",
    "    Ensure that x,y and z are not equal to 0 to avoid number divided by 0 uncertainty.\n",
    "    \"\"\"   \n",
    "\n",
    "    result = 1 / x + 1 / y + 1 / z\n",
    "\n",
    "    return 1 / result\n",
    "result= do_something(11, 13, 15)\n",
    "print(\"Result: \", result)"
   ]
  },
  {
   "cell_type": "markdown",
   "metadata": {},
   "source": [
    "### In the variable 's' containing a sentence, extract the word using result defined above as index"
   ]
  },
  {
   "cell_type": "code",
   "execution_count": 101,
   "metadata": {},
   "outputs": [
    {
     "name": "stdout",
     "output_type": "stream",
     "text": [
      "Index out of range.\n"
     ]
    }
   ],
   "source": [
    "s = \"I love Machine Learning and Deep Learning\"\n",
    "\n",
    "result = do_something(11, 13, 15)\n",
    "index = int(result * len(s.split()))\n",
    "\n",
    "words = s.split()\n",
    "if 0 <= index < len(words):\n",
    "    extracted_word = words[index]\n",
    "    print(\"Extracted word:\", extracted_word)\n",
    "else:\n",
    "    print(\"Index out of range.\")\n"
   ]
  },
  {
   "cell_type": "markdown",
   "metadata": {},
   "source": [
    "### Sort the given array below, do not use built in functions. All sorting methods are allowed."
   ]
  },
  {
   "cell_type": "code",
   "execution_count": 99,
   "metadata": {},
   "outputs": [
    {
     "name": "stdout",
     "output_type": "stream",
     "text": [
      "Original Array: [20, 35, 97, 51, 72, 36, 67, 57, 86, 42]\n",
      "Sorted Array: [20, 35, 36, 42, 51, 57, 67, 72, 86, 97]\n"
     ]
    }
   ],
   "source": [
    "import random\n",
    "\n",
    "arr = [random.randint(1, 100) for i in range(10)]\n",
    "def bubble_sort(arr):\n",
    "    n = len(arr)\n",
    "\n",
    "    for i in range(n):\n",
    "        for j in range(0, n - i - 1):\n",
    "            if arr[j] > arr[j + 1]:\n",
    "                arr[j], arr[j + 1] = arr[j + 1], arr[j]\n",
    "\n",
    "print(\"Original Array:\", arr)\n",
    "\n",
    "bubble_sort(arr)\n",
    "\n",
    "print(\"Sorted Array:\", arr)\n"
   ]
  },
  {
   "cell_type": "markdown",
   "metadata": {},
   "source": [
    "### define a recursive function to calculate input numbers factorial named factorial"
   ]
  },
  {
   "cell_type": "code",
   "execution_count": 98,
   "metadata": {},
   "outputs": [
    {
     "name": "stdout",
     "output_type": "stream",
     "text": [
      "The factorial of 4 is: 24\n"
     ]
    }
   ],
   "source": [
    "def factorial(n):\n",
    "    if n == 0 or n == 1:\n",
    "        return 1\n",
    "    else:\n",
    "        return n * factorial(n - 1)\n",
    "\n",
    "input_number = 4\n",
    "result = factorial(input_number)\n",
    "\n",
    "print(f\"The factorial of {input_number} is: {result}\")"
   ]
  },
  {
   "cell_type": "markdown",
   "metadata": {},
   "source": [
    "### define a function to merge the given arrays and calculate the median named twoMedian"
   ]
  },
  {
   "cell_type": "code",
   "execution_count": 97,
   "metadata": {},
   "outputs": [
    {
     "name": "stdout",
     "output_type": "stream",
     "text": [
      "The median of the merged arrays is: 3.5\n"
     ]
    }
   ],
   "source": [
    "def twoMedian(arr1, arr2):\n",
    "    merged_array = sorted(arr1 + arr2)\n",
    "    n = len(merged_array)\n",
    "    return (merged_array[n//2 - 1] + merged_array[n//2]) / 2 if n % 2 == 0 else merged_array[n//2]\n",
    "\n",
    "arr1 = [1, 3, 5]\n",
    "arr2 = [2, 4, 6]\n",
    "result_median = twoMedian(arr1, arr2)\n",
    "print(f\"The median of the merged arrays is: {result_median}\")\n"
   ]
  }
 ],
 "metadata": {
  "kernelspec": {
   "display_name": "Python 3 (ipykernel)",
   "language": "python",
   "name": "python3"
  },
  "language_info": {
   "codemirror_mode": {
    "name": "ipython",
    "version": 3
   },
   "file_extension": ".py",
   "mimetype": "text/x-python",
   "name": "python",
   "nbconvert_exporter": "python",
   "pygments_lexer": "ipython3",
   "version": "3.11.7"
  }
 },
 "nbformat": 4,
 "nbformat_minor": 5
}
